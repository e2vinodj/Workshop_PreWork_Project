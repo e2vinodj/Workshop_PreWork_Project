{
 "cells": [
  {
   "cell_type": "markdown",
   "metadata": {},
   "source": [
    "# Workshop Prework Programs."
   ]
  },
  {
   "cell_type": "code",
   "execution_count": null,
   "metadata": {
    "collapsed": true
   },
   "outputs": [],
   "source": [
    "# This is a code cell without any tag. You can put convenience code here,\n",
    "# but it won't be included in any way in the final project.\n",
    "# For example, to be able to run tests locally in the notebook\n",
    "# you need to install the following:\n",
    "# install.packages(\"devtools\")\n",
    "# install.packages(testthat\")\n",
    "# devtools::install_github('datacamp/IRkernel.testthat')\n",
    "\n",
    "# This allows .... to be used as placeholder value in the sample code cells\n",
    ".... <- NULL "
   ]
  },
  {
   "cell_type": "markdown",
   "metadata": {},
   "source": [
    "This is a markdown cell without any tag. You can put text / TODOs / etc. here\n",
    "but it won't be included in any way in the final project.\n",
    "\n",
    "For example, here is the documentation of the format of a DataCamp Project notebook: https://authoring.datacamp.com/projects/projects-format.html"
   ]
  },
  {
   "cell_type": "markdown",
   "metadata": {
    "tags": [
     "type:NotebookTask"
    ]
   },
   "source": [
    "## 1. Load the Claim Termination data"
   ]
  },
  {
   "cell_type": "markdown",
   "metadata": {
    "tags": [
     "@context"
    ]
   },
   "source": [
    "Claim termination rate (CTR) data has been extracted from the SOA experience database1 and modified for workshop purposes. The modified data can be found .  We will explore this data that will be used here with the pre-work programs and in the workshop as well.\n",
    "\n"
   ]
  },
  {
   "cell_type": "markdown",
   "metadata": {
    "tags": [
     "@instructions"
    ]
   },
   "source": [
    "- Run the codes in each cell\n",
    "- Load the packages needed to explore the data\n",
    "- Read the source data from the Claim Termination File into R as ctr_data\n",
    "- View the table to understand the data and its structure\n",
    "\n",
    "<hr>\n",
    "\n",
    "## Good to know\n",
    "\n",
    "Take these courses to Learn R coding\n",
    "https://www.datacamp.com/courses/free-introduction-to-r\n",
    "https://www.datacamp.com/tracks/importing-cleaning-data-with-r\n",
    "https://www.datacamp.com/courses/intermediate-r\n",
    "\n"
   ]
  },
  {
   "cell_type": "markdown",
   "metadata": {
    "tags": [
     "@hint"
    ]
   },
   "source": [
    "```\n",
    "```"
   ]
  },
  {
   "cell_type": "code",
   "execution_count": null,
   "metadata": {
    "collapsed": true,
    "tags": [
     "@sample_code"
    ]
   },
   "outputs": [],
   "source": [
    "### 1.0.1 - load the packages\n",
    "library(dplyr)\n",
    "library(data.table)\n",
    "\n",
    "### 1.0.2 - initialize file paths for working directories \n",
    "\n",
    "### 1.0.4 - import the data\n",
    "temp <- tempfile()\n",
    "download.file(\"http://s3.amazonaws.com/assets.datacamp.com/production/course_6490/datasets/ILTCI%20PM%20workshop%20CTR%20data.zip\", temp)\n",
    "unzip(temp,\"ILTCI PM workshop CTR data.csv\",overwrite=TRUE)\n",
    "ctr_data  <-fread(\"ILTCI PM workshop CTR data.csv\", sep=\",\", header=TRUE) \n",
    "unlink(temp)\n"
   ]
  },
  {
   "cell_type": "code",
   "execution_count": null,
   "metadata": {
    "collapsed": true,
    "tags": [
     "@solution"
    ]
   },
   "outputs": [],
   "source": [
    "### 1.0.1 - load the packages\n",
    "library(dplyr)\n",
    "library(data.table)\n",
    "\n",
    "### 1.0.2 - initialize file paths for working directories \n",
    "\n",
    "### 1.0.4 - import the data\n",
    "temp <- tempfile()\n",
    "download.file(\"http://s3.amazonaws.com/assets.datacamp.com/production/course_6490/datasets/ILTCI%20PM%20workshop%20CTR%20data.zip\", temp)\n",
    "unzip(temp,\"ILTCI PM workshop CTR data.csv\",overwrite=TRUE)\n",
    "ctr_data  <-fread(\"ILTCI PM workshop CTR data.csv\", sep=\",\", header=TRUE) \n",
    "unlink(temp)\n"
   ]
  },
  {
   "cell_type": "code",
   "execution_count": null,
   "metadata": {
    "collapsed": true,
    "tags": [
     "@tests"
    ]
   },
   "outputs": [],
   "source": [
    "# These packages need to be loaded in the first `@tests` cell. \n",
    "library(testthat) \n",
    "library(IRkernel.testthat)\n",
    "\n",
    "# Then follows one or more tests of the students code. \n",
    "# The @solution should pass the tests.\n",
    "# The purpose of the tests is to try to catch common errors and to \n",
    "# give the student a hint on how to resolve these errors.\n",
    "\n"
   ]
  },
  {
   "cell_type": "markdown",
   "metadata": {
    "tags": [
     "type:NotebookTask"
    ]
   },
   "source": [
    "## 2. View the data and data types"
   ]
  },
  {
   "cell_type": "markdown",
   "metadata": {
    "tags": [
     "@context"
    ]
   },
   "source": [
    "Now we have data let’s start modeling right? Nope….\n",
    "• Garbage in is garbage out, make sure your data is in good shape\n",
    "• Approximately 80% of your time will be spent here"
   ]
  },
  {
   "cell_type": "markdown",
   "metadata": {
    "tags": [
     "@instructions"
    ]
   },
   "source": [
    "Examine the data table. \n",
    "\n",
    "- Examine the column names.\n",
    "- View the basic structure and data types.\n",
    "- Take a prak at the data.\n",
    "\n",
    "<hr>\n"
   ]
  },
  {
   "cell_type": "markdown",
   "metadata": {
    "tags": [
     "@hint"
    ]
   },
   "source": [
    "```\n",
    "```"
   ]
  },
  {
   "cell_type": "code",
   "execution_count": null,
   "metadata": {
    "collapsed": true,
    "tags": [
     "@sample_code"
    ]
   },
   "outputs": [],
   "source": [
    "# 1.0.5 - view the data to see what we're working with\n",
    "names(ctr_data)\n",
    "str(ctr_data)\n",
    "glimpse(ctr_data)\n",
    "class(ctr_data)\n",
    "head(ctr_data, 10)"
   ]
  },
  {
   "cell_type": "code",
   "execution_count": null,
   "metadata": {
    "collapsed": true,
    "tags": [
     "@solution"
    ]
   },
   "outputs": [],
   "source": [
    "# 1.0.5 - view the data to see what we're working with\n",
    "names(ctr_data)\n",
    "str(ctr_data)\n",
    "glimpse(ctr_data)\n",
    "class(ctr_data)\n",
    "head(ctr_data, 10)"
   ]
  },
  {
   "cell_type": "code",
   "execution_count": null,
   "metadata": {
    "collapsed": true,
    "tags": [
     "@tests"
    ]
   },
   "outputs": [],
   "source": [
    "# one or more tests of the students code. \n",
    "# The @solution should pass the tests.\n",
    "# The purpose of the tests is to try to catch common errors and to \n",
    "# give the student a hint on how to resolve these errors.\n"
   ]
  },
  {
   "cell_type": "markdown",
   "metadata": {
    "tags": [
     "type:NotebookTask"
    ]
   },
   "source": [
    "## 3. View the basic data summaries"
   ]
  },
  {
   "cell_type": "markdown",
   "metadata": {
    "tags": [
     "@context"
    ]
   },
   "source": [
    "Take a look at the data and check for missing values and outliners"
   ]
  },
  {
   "cell_type": "markdown",
   "metadata": {
    "tags": [
     "@instructions"
    ]
   },
   "source": [
    "The task instructions start with a brief sentence framing the task.\n",
    "\n",
    "- View the summary of the columns in the data table\n",
    "- Group the values in the columns using the table R function\n",
    "\n",
    "<hr>\n"
   ]
  },
  {
   "cell_type": "markdown",
   "metadata": {
    "tags": [
     "@hint"
    ]
   },
   "source": [
    "\n",
    "```\n",
    "\n",
    "```"
   ]
  },
  {
   "cell_type": "code",
   "execution_count": null,
   "metadata": {
    "collapsed": true,
    "tags": [
     "@sample_code"
    ]
   },
   "outputs": [],
   "source": [
    "# 1.0.6 - view basic data summaries to see if there are any problems with the data\n",
    "summary(ctr_data)\n",
    "table(ctr_data$Cov_Type_Bucket)\n",
    "table(ctr_data$GroupIndicator)\n",
    "table(ctr_data$Gender)\n",
    "table(ctr_data$Cov_Type_Bucket, ctr_data$GroupIndicator)\n",
    "table(ctr_data$Cov_Type_Bucket, ctr_data$GroupIndicator, ctr_data$Gender)\n",
    "table(ctr_data$Diagnosis_Category)"
   ]
  },
  {
   "cell_type": "code",
   "execution_count": null,
   "metadata": {
    "collapsed": true,
    "tags": [
     "@solution"
    ]
   },
   "outputs": [],
   "source": [
    "# 1.0.6 - view basic data summaries to see if there are any problems with the data\n",
    "summary(ctr_data)\n",
    "table(ctr_data$Cov_Type_Bucket)\n",
    "table(ctr_data$GroupIndicator)\n",
    "table(ctr_data$Gender)\n",
    "table(ctr_data$Cov_Type_Bucket, ctr_data$GroupIndicator)\n",
    "table(ctr_data$Cov_Type_Bucket, ctr_data$GroupIndicator, ctr_data$Gender)\n",
    "table(ctr_data$Diagnosis_Category)"
   ]
  },
  {
   "cell_type": "code",
   "execution_count": null,
   "metadata": {
    "collapsed": true,
    "tags": [
     "@tests"
    ]
   },
   "outputs": [],
   "source": [
    "# one or more tests of the students code. \n",
    "# The @solution should pass the tests.\n",
    "# The purpose of the tests is to try to catch common errors and to \n",
    "# give the student a hint on how to resolve these errors.\n"
   ]
  },
  {
   "cell_type": "markdown",
   "metadata": {
    "tags": [
     "type:NotebookTask"
    ]
   },
   "source": [
    "## 4. Take an indepth look at a column"
   ]
  },
  {
   "cell_type": "markdown",
   "metadata": {
    "tags": [
     "@context"
    ]
   },
   "source": [
    "Often we will have columns with insufficient information"
   ]
  },
  {
   "cell_type": "markdown",
   "metadata": {
    "tags": [
     "@instructions"
    ]
   },
   "source": [
    "Take a look at the tax-qualified status in the ctr_data table\n",
    "\n",
    "- Check if tax-qualified status has Unknown values \n",
    "- Calculate the percentage\n",
    "\n",
    "<hr>\n"
   ]
  },
  {
   "cell_type": "markdown",
   "metadata": {
    "tags": [
     "@hint"
    ]
   },
   "source": [
    "```\n",
    "```"
   ]
  },
  {
   "cell_type": "code",
   "execution_count": null,
   "metadata": {
    "collapsed": true,
    "tags": [
     "@sample_code"
    ]
   },
   "outputs": [],
   "source": [
    "# 1.0.7 - dig into one of the fields, the tax-qualified status; status of unknown is frequent\n",
    "tq_table <- table(ctr_data$TQ_Status)\n",
    "tq_table / sum(tq_table)"
   ]
  },
  {
   "cell_type": "code",
   "execution_count": null,
   "metadata": {
    "collapsed": true,
    "tags": [
     "@solution"
    ]
   },
   "outputs": [],
   "source": [
    "# 1.0.7 - dig into one of the fields, the tax-qualified status; status of unknown is frequent\n",
    "tq_table <- table(ctr_data$TQ_Status)\n",
    "tq_table / sum(tq_table)"
   ]
  },
  {
   "cell_type": "code",
   "execution_count": null,
   "metadata": {
    "collapsed": true,
    "tags": [
     "@tests"
    ]
   },
   "outputs": [],
   "source": [
    "# one or more tests of the students code. \n",
    "# The @solution should pass the tests.\n",
    "# The purpose of the tests is to try to catch common errors and to \n",
    "# give the student a hint on how to resolve these errors.\n"
   ]
  },
  {
   "cell_type": "markdown",
   "metadata": {
    "tags": [
     "type:NotebookTask"
    ]
   },
   "source": [
    "## 5. Visualize the data by plotting graphs"
   ]
  },
  {
   "cell_type": "markdown",
   "metadata": {
    "tags": [
     "@context"
    ]
   },
   "source": [
    "Data visualization is the presentation of data in a pictorial or graphical format. It enables decision makers to see analytics presented visually, so they can grasp difficult concepts or identify new patterns."
   ]
  },
  {
   "cell_type": "markdown",
   "metadata": {
    "tags": [
     "@instructions"
    ]
   },
   "source": [
    "Perform sanity check and examine the integrity of the data\n",
    "\n",
    "- Plot the boxplots for various data items\n",
    "\n",
    "\n",
    "<hr>\n"
   ]
  },
  {
   "cell_type": "markdown",
   "metadata": {
    "tags": [
     "@hint"
    ]
   },
   "source": [
    "\n",
    "```\n",
    "\n",
    "```"
   ]
  },
  {
   "cell_type": "code",
   "execution_count": null,
   "metadata": {
    "collapsed": true,
    "tags": [
     "@sample_code"
    ]
   },
   "outputs": [],
   "source": [
    "# 1.0.8 - graph some of the fields for some basic data integrity and sanity checks\n",
    "boxplot(ctr_data$ClaimDuration,\n",
    "        main = \"Boxplot of Data by Claim Duration\",\n",
    "        ylab = \"Claim Duration\"\n",
    "        )\n",
    "boxplot(ctr_data$Exposure,\n",
    "        main = \"Boxplot of Data by Exposure\",\n",
    "        ylab = \"Exposure\"\n",
    "        )\n",
    "situs_counts <- table(ctr_data$ClaimType)\n",
    "barplot(situs_counts,\n",
    "        main = \"Bar Chart of Situs Counts\",\n",
    "        ylab = \"Counts\"\n",
    "        )\n",
    "tq_counts <- table(ctr_data$TQ_Status)\n",
    "barplot(tq_counts,\n",
    "        main = \"Bar Chart of TQ Status Counts\",\n",
    "        ylab = \"Counts\")\n"
   ]
  },
  {
   "cell_type": "code",
   "execution_count": null,
   "metadata": {
    "collapsed": true,
    "tags": [
     "@solution"
    ]
   },
   "outputs": [],
   "source": [
    "# 1.0.8 - graph some of the fields for some basic data integrity and sanity checks\n",
    "boxplot(ctr_data$ClaimDuration,\n",
    "        main = \"Boxplot of Data by Claim Duration\",\n",
    "        ylab = \"Claim Duration\"\n",
    "        )\n",
    "boxplot(ctr_data$Exposure,\n",
    "        main = \"Boxplot of Data by Exposure\",\n",
    "        ylab = \"Exposure\"\n",
    "        )\n",
    "situs_counts <- table(ctr_data$ClaimType)\n",
    "barplot(situs_counts,\n",
    "        main = \"Bar Chart of Situs Counts\",\n",
    "        ylab = \"Counts\"\n",
    "        )\n",
    "tq_counts <- table(ctr_data$TQ_Status)\n",
    "barplot(tq_counts,\n",
    "        main = \"Bar Chart of TQ Status Counts\",\n",
    "        ylab = \"Counts\")\n"
   ]
  },
  {
   "cell_type": "code",
   "execution_count": null,
   "metadata": {
    "collapsed": true,
    "tags": [
     "@tests"
    ]
   },
   "outputs": [],
   "source": [
    "# one or more tests of the students code. \n",
    "# The @solution should pass the tests.\n",
    "# The purpose of the tests is to try to catch common errors and to \n",
    "# give the student a hint on how to resolve these errors.\n"
   ]
  },
  {
   "cell_type": "markdown",
   "metadata": {
    "tags": [
     "type:NotebookTask"
    ]
   },
   "source": [
    "## 6. Reasonability checks"
   ]
  },
  {
   "cell_type": "markdown",
   "metadata": {
    "tags": [
     "@context"
    ]
   },
   "source": []
  },
  {
   "cell_type": "markdown",
   "metadata": {
    "tags": [
     "@instructions"
    ]
   },
   "source": [
    "Perform Reasonability check of the hazard rates\n",
    "\n",
    "- Perform a basic summary of hazard rates.\n",
    "- view the results for reasonability.\n",
    "\n",
    "\n",
    "<hr>\n",
    "\n"
   ]
  },
  {
   "cell_type": "markdown",
   "metadata": {
    "tags": [
     "@hint"
    ]
   },
   "source": [
    "```\n",
    "\n",
    "```"
   ]
  },
  {
   "cell_type": "code",
   "execution_count": null,
   "metadata": {
    "collapsed": true,
    "tags": [
     "@sample_code"
    ]
   },
   "outputs": [],
   "source": [
    "# 1.0.9 - perform a basic summary of hazard rates, and view the results for reasonability\n",
    "term_stats <- ctr_data %>%\n",
    "                    select(ClaimDuration,\n",
    "                           Exposure,\n",
    "                           Terminations\n",
    "                           ) %>%\n",
    "                    group_by(ClaimDuration\n",
    "                           ) %>%\n",
    "                    summarise(SumExposure = sum(Exposure),\n",
    "                              SumTerminations = sum(Terminations),\n",
    "                              term_rates = SumTerminations / SumExposure\n",
    "                            )\n",
    "\n",
    "term_stats\n",
    "\n",
    "# 1.0.10 - plot the hazard rate summary, and view it for reasonability\n",
    "attach(term_stats)\n",
    "\n",
    "plot(y = term_rates[1:120], \n",
    "     x = ClaimDuration[1:120],\n",
    "     xlab = \"Claim Duration\",\n",
    "     ylab = \"Term Rate\",\n",
    "     type = \"l\",\n",
    "     main = \"Hazard rates by claim duration\",\n",
    "     col = \"blue\")\n",
    "\n",
    "# 1.0.11 - add in a smoothed line to remove some of the noise\n",
    "lines(smooth(term_rates[1:120]), \n",
    "      col = \"red\")\n",
    "\n",
    "detach(term_stats)\n"
   ]
  },
  {
   "cell_type": "code",
   "execution_count": null,
   "metadata": {
    "collapsed": true,
    "tags": [
     "@solution"
    ]
   },
   "outputs": [],
   "source": [
    "# 1.0.9 - perform a basic summary of hazard rates, and view the results for reasonability\n",
    "term_stats <- ctr_data %>%\n",
    "                    select(ClaimDuration,\n",
    "                           Exposure,\n",
    "                           Terminations\n",
    "                           ) %>%\n",
    "                    group_by(ClaimDuration\n",
    "                           ) %>%\n",
    "                    summarise(SumExposure = sum(Exposure),\n",
    "                              SumTerminations = sum(Terminations),\n",
    "                              term_rates = SumTerminations / SumExposure\n",
    "                            )\n",
    "\n",
    "term_stats\n",
    "\n",
    "# 1.0.10 - plot the hazard rate summary, and view it for reasonability\n",
    "attach(term_stats)\n",
    "\n",
    "plot(y = term_rates[1:120], \n",
    "     x = ClaimDuration[1:120],\n",
    "     xlab = \"Claim Duration\",\n",
    "     ylab = \"Term Rate\",\n",
    "     type = \"l\",\n",
    "     main = \"Hazard rates by claim duration\",\n",
    "     col = \"blue\")\n",
    "\n",
    "# 1.0.11 - add in a smoothed line to remove some of the noise\n",
    "lines(smooth(term_rates[1:120]), \n",
    "      col = \"red\")\n",
    "\n",
    "detach(term_stats)\n"
   ]
  },
  {
   "cell_type": "code",
   "execution_count": null,
   "metadata": {
    "collapsed": true,
    "tags": [
     "@tests"
    ]
   },
   "outputs": [],
   "source": [
    "# one or more tests of the students code. \n",
    "# The @solution should pass the tests.\n",
    "# The purpose of the tests is to try to catch common errors and to \n",
    "# give the student a hint on how to resolve these errors.\n"
   ]
  },
  {
   "cell_type": "markdown",
   "metadata": {
    "tags": [
     "type:NotebookTask"
    ]
   },
   "source": [
    "## 7. Credibility Checks"
   ]
  },
  {
   "cell_type": "markdown",
   "metadata": {
    "tags": [
     "@context"
    ]
   },
   "source": []
  },
  {
   "cell_type": "markdown",
   "metadata": {
    "tags": [
     "@instructions"
    ]
   },
   "source": [
    "Do you have enough termination data to perform an analysis?\n",
    "\n",
    "- Perform a credibility stats check.\n",
    "\n",
    "<hr>"
   ]
  },
  {
   "cell_type": "markdown",
   "metadata": {
    "tags": [
     "@hint"
    ]
   },
   "source": [
    "```\n",
    "```"
   ]
  },
  {
   "cell_type": "code",
   "execution_count": null,
   "metadata": {
    "collapsed": true,
    "tags": [
     "@sample_code"
    ]
   },
   "outputs": [],
   "source": [
    "# 1.0.12 - credibility view - do you have enough termination data to perform an analysis?\n",
    "cred_stats <- ctr_data %>%\n",
    "                    select(Gender,\n",
    "                           ClaimType,\n",
    "                           IncurredAgeBucket,\n",
    "                           Terminations\n",
    "                            ) %>%\n",
    "                    group_by(Gender,\n",
    "                             ClaimType,\n",
    "                             IncurredAgeBucket\n",
    "                            ) %>%\n",
    "                    summarise(SumTerminations = sum(Terminations)\n",
    "                            )\n",
    "\n",
    "# 1.0.13 - view the results for a judgment call on credibility\n",
    "cred_stats"
   ]
  },
  {
   "cell_type": "code",
   "execution_count": null,
   "metadata": {
    "collapsed": true,
    "tags": [
     "@solution"
    ]
   },
   "outputs": [],
   "source": [
    "# 1.0.12 - credibility view - do you have enough termination data to perform an analysis?\n",
    "cred_stats <- ctr_data %>%\n",
    "                    select(Gender,\n",
    "                           ClaimType,\n",
    "                           IncurredAgeBucket,\n",
    "                           Terminations\n",
    "                            ) %>%\n",
    "                    group_by(Gender,\n",
    "                             ClaimType,\n",
    "                             IncurredAgeBucket\n",
    "                            ) %>%\n",
    "                    summarise(SumTerminations = sum(Terminations)\n",
    "                            )\n",
    "\n",
    "# 1.0.13 - view the results for a judgment call on credibility\n",
    "cred_stats"
   ]
  },
  {
   "cell_type": "code",
   "execution_count": null,
   "metadata": {
    "collapsed": true,
    "tags": [
     "@tests"
    ]
   },
   "outputs": [],
   "source": [
    "# one or more tests of the students code. \n",
    "# The @solution should pass the tests.\n",
    "# The purpose of the tests is to try to catch common errors and to \n",
    "# give the student a hint on how to resolve these errors.\n"
   ]
  }
 ],
 "metadata": {
  "celltoolbar": "Tags",
  "kernelspec": {
   "display_name": "R",
   "language": "R",
   "name": "ir"
  },
  "language_info": {
   "codemirror_mode": "r",
   "file_extension": ".r",
   "mimetype": "text/x-r-source",
   "name": "R",
   "pygments_lexer": "r",
   "version": "3.4.2"
  }
 },
 "nbformat": 4,
 "nbformat_minor": 2
}
